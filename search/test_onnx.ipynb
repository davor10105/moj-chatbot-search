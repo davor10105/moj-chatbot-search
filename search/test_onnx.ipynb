{
 "cells": [
  {
   "cell_type": "code",
   "execution_count": 1,
   "metadata": {},
   "outputs": [
    {
     "name": "stderr",
     "output_type": "stream",
     "text": [
      "/home/davor/moj-chatbot-search/env/lib/python3.11/site-packages/tqdm/auto.py:21: TqdmWarning: IProgress not found. Please update jupyter and ipywidgets. See https://ipywidgets.readthedocs.io/en/stable/user_install.html\n",
      "  from .autonotebook import tqdm as notebook_tqdm\n"
     ]
    }
   ],
   "source": [
    "from sentence_transformers import SentenceTransformer, util"
   ]
  },
  {
   "cell_type": "code",
   "execution_count": 2,
   "metadata": {},
   "outputs": [],
   "source": [
    "from langchain.document_loaders import DirectoryLoader"
   ]
  },
  {
   "cell_type": "code",
   "execution_count": 3,
   "metadata": {},
   "outputs": [],
   "source": [
    "loader = DirectoryLoader(\"data/documents/\", glob=\"*.pdf\")"
   ]
  },
  {
   "cell_type": "code",
   "execution_count": 4,
   "metadata": {},
   "outputs": [],
   "source": [
    "documents = loader.load()\n",
    "# DOWNLOADS TO /home/davor/nltk_data"
   ]
  },
  {
   "cell_type": "code",
   "execution_count": 5,
   "metadata": {},
   "outputs": [],
   "source": [
    "from langchain.text_splitter import SentenceTransformersTokenTextSplitter"
   ]
  },
  {
   "cell_type": "code",
   "execution_count": 6,
   "metadata": {},
   "outputs": [],
   "source": [
    "splitter = SentenceTransformersTokenTextSplitter(\n",
    "    chunk_overlap=50,\n",
    "    model_name=\"sentence-transformers/paraphrase-multilingual-MiniLM-L12-v2\",\n",
    ")"
   ]
  },
  {
   "cell_type": "code",
   "execution_count": 7,
   "metadata": {},
   "outputs": [],
   "source": [
    "split_documents = splitter.split_documents(documents)"
   ]
  },
  {
   "cell_type": "code",
   "execution_count": 8,
   "metadata": {},
   "outputs": [],
   "source": [
    "from langchain.embeddings import HuggingFaceEmbeddings\n",
    "\n",
    "model_name = \"sentence-transformers/paraphrase-multilingual-MiniLM-L12-v2\"\n",
    "model_kwargs = {\"device\": \"cpu\"}\n",
    "encode_kwargs = {\"normalize_embeddings\": False}\n",
    "embeddings_model = HuggingFaceEmbeddings(\n",
    "    model_name=model_name, model_kwargs=model_kwargs, encode_kwargs=encode_kwargs\n",
    ")"
   ]
  },
  {
   "cell_type": "code",
   "execution_count": 9,
   "metadata": {},
   "outputs": [],
   "source": [
    "from langchain.vectorstores import Chroma\n",
    "\n",
    "db = Chroma.from_documents(split_documents, embeddings_model)\n",
    "retriever = db.as_retriever()"
   ]
  },
  {
   "cell_type": "code",
   "execution_count": 14,
   "metadata": {},
   "outputs": [
    {
     "data": {
      "text/plain": [
       "[Document(page_content='uju u sudskim postupcima, a obuhvaća predmete općinskih, županijskih, upravnih, trgovačkih sudova, Visokog prekršajnog suda, Visokog trgovačkog suda, Visokog upravnog suda, Visokog kaznenog suda i Vrhovnog suda RH. Na Internet stranici http://e-predmet.pravosudje.hr/?q=pretraga biranjem nadležnog suda sa padajućeg izbornika i upisom točnog broja predmeta, možete vidjeti status vašeg predmeta. Ministarstvo pravosuđa i uprave kao najviše tijelo za obavljanje pravosudne', metadata={'source': 'data/documents/Popis pitanja za chatbot.docx.pdf'}),\n",
       " Document(page_content='hr/?q=pretraga biranjem nadležnog suda sa padajućeg izbornika i upisom točnog broja predmeta, možete vidjeti status vašeg predmeta. Ministarstvo pravosuđa i uprave kao najviše tijelo za obavljanje pravosudne uprave osigurava samo tehničke preduvjete za javnu i besplatnu uslugu ePredmet. Svoje predmete sa svim detaljima i sadržajem pismena možete vidjeti eKomunikacija https://usluge.pravosudje.hr/komunikacija-sa-sudom/. i preko usluge Za sve dodatne informacije obratite se nadležnom sudu', metadata={'source': 'data/documents/Popis pitanja za chatbot.docx.pdf'}),\n",
       " Document(page_content=\"zauzimala nepotreban prostor na ekranu ako se ne koristi. Ista se otvara klikom na strelicu prema dolje. Kada se forma otvori omogućava pretragu po različitim kriterijima (ime i prezime/naziv, OIB ovršenika ili ovrhovoditelja, te jedinstveni identifikator pod kojim je ovrhovoditelj upisao nacrt prijedloga). 26 4.2 Pregled prijedloga poslanih na sud Odabirom plavog polja 'Poslani na sud' otvara se popis svih prijedloga poslanih na sud. Nakon što se na sudu izgenerira poslovni broj\", metadata={'source': 'data/documents/e-Ovrhe - korisnički priručnik v 1.9.pdf'}),\n",
       " Document(page_content='sa svim detaljima i sadržajem pismena možete vidjeti eKomunikacija https://usluge.pravosudje.hr/komunikacija-sa-sudom/. i preko usluge Za sve dodatne informacije obratite se nadležnom sudu telefonom, pisanim podneskom na broj spisa ili osobnim odlaskom na sud u uredovno vrijeme za stranke. Kontakti sudova dostupni su na stranici https://sudovi.hr/ Ako je predmet kod javnog bilježnika obratite se njemu. Popis svih Javnih bilježnika sa njihovim kontaktima možete pronaći na stranici https://www.hjk.', metadata={'source': 'data/documents/Popis pitanja za chatbot.docx.pdf'})]"
      ]
     },
     "execution_count": 14,
     "metadata": {},
     "output_type": "execute_result"
    }
   ],
   "source": [
    "retriever.invoke(\n",
    "    \"\"\"kako da nađem sudski predmet?\"\"\"\n",
    ")"
   ]
  },
  {
   "cell_type": "code",
   "execution_count": 17,
   "metadata": {},
   "outputs": [],
   "source": [
    "embeddings = embeddings_model.embed_documents([split_document.page_content for split_document in split_documents])"
   ]
  },
  {
   "cell_type": "code",
   "execution_count": 21,
   "metadata": {},
   "outputs": [
    {
     "data": {
      "text/plain": [
       "(133, 384)"
      ]
     },
     "execution_count": 21,
     "metadata": {},
     "output_type": "execute_result"
    }
   ],
   "source": [
    "len(embeddings), len(embeddings[0])"
   ]
  },
  {
   "cell_type": "code",
   "execution_count": 2,
   "metadata": {},
   "outputs": [],
   "source": [
    "model = SentenceTransformer(\n",
    "    \"./data/model_data/sentence-transformers_paraphrase-multilingual-MiniLM-L12-v2\",  # \"paraphrase-multilingual-MiniLM-L12-v2\",\n",
    ")"
   ]
  },
  {
   "cell_type": "code",
   "execution_count": 3,
   "metadata": {},
   "outputs": [
    {
     "data": {
      "text/plain": [
       "SentenceTransformer(\n",
       "  (0): Transformer({'max_seq_length': 128, 'do_lower_case': False}) with Transformer model: BertModel \n",
       "  (1): Pooling({'word_embedding_dimension': 384, 'pooling_mode_cls_token': False, 'pooling_mode_mean_tokens': True, 'pooling_mode_max_tokens': False, 'pooling_mode_mean_sqrt_len_tokens': False})\n",
       ")"
      ]
     },
     "execution_count": 3,
     "metadata": {},
     "output_type": "execute_result"
    }
   ],
   "source": [
    "model"
   ]
  }
 ],
 "metadata": {
  "kernelspec": {
   "display_name": "env",
   "language": "python",
   "name": "python3"
  },
  "language_info": {
   "codemirror_mode": {
    "name": "ipython",
    "version": 3
   },
   "file_extension": ".py",
   "mimetype": "text/x-python",
   "name": "python",
   "nbconvert_exporter": "python",
   "pygments_lexer": "ipython3",
   "version": "3.11.5"
  }
 },
 "nbformat": 4,
 "nbformat_minor": 2
}
